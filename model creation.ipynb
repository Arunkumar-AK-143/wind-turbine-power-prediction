{
  "nbformat": 4,
  "nbformat_minor": 0,
  "metadata": {
    "colab": {
      "name": "Wind Turbine Scada Dataset.ipynb",
      "provenance": []
    },
    "kernelspec": {
      "name": "python3",
      "display_name": "Python 3"
    },
    "language_info": {
      "name": "python"
    }
  },
  "cells": [
    {
      "cell_type": "markdown",
      "metadata": {
        "id": "C2XGxC1afc-s"
      },
      "source": [
        "# ***Predicting the Energy Output of Wind Turbine ***"
      ]
    },
    {
      "cell_type": "code",
      "metadata": {
        "id": "NQd-uZJLNZ5A"
      },
      "source": [
        "import warnings\n",
        "warnings.filterwarnings('ignore')"
      ],
      "execution_count": 43,
      "outputs": []
    },
    {
      "cell_type": "code",
      "metadata": {
        "id": "qywkrhLUNZ7h"
      },
      "source": [
        "import pandas as pd\n",
        "import numpy as np\n",
        "import matplotlib.pyplot as plt\n",
        "from collections import Counter\n",
        "import seaborn as sns\n",
        "import os"
      ],
      "execution_count": 44,
      "outputs": []
    },
    {
      "cell_type": "code",
      "metadata": {
        "id": "dIC67D2LNZ-A"
      },
      "source": [
        "data = pd.read_csv('/content/drive/MyDrive/Data science/CSVS/T1.csv')"
      ],
      "execution_count": 45,
      "outputs": []
    },
    {
      "cell_type": "code",
      "metadata": {
        "id": "DPzmlfAKNaAQ",
        "colab": {
          "base_uri": "https://localhost:8080/",
          "height": 202
        },
        "outputId": "389645aa-91fa-4436-982c-d44371e0c1de"
      },
      "source": [
        "data.rename(columns = {'LV ActivePower (kW)':'ActivePower(kW)',\n",
        "                       \"Wind Speed (m/s)\":\"WindSpeed(m/s)\",\n",
        "                       \"Wind Direction (°)\":\"WindDirection\",\"Theoretical_Power_Curve (KWh)\":\"TheoreticalPowerCurve(KWh)\"},\n",
        "            inplace = True)\n",
        "data.head()"
      ],
      "execution_count": 46,
      "outputs": [
        {
          "output_type": "execute_result",
          "data": {
            "text/html": [
              "<div>\n",
              "<style scoped>\n",
              "    .dataframe tbody tr th:only-of-type {\n",
              "        vertical-align: middle;\n",
              "    }\n",
              "\n",
              "    .dataframe tbody tr th {\n",
              "        vertical-align: top;\n",
              "    }\n",
              "\n",
              "    .dataframe thead th {\n",
              "        text-align: right;\n",
              "    }\n",
              "</style>\n",
              "<table border=\"1\" class=\"dataframe\">\n",
              "  <thead>\n",
              "    <tr style=\"text-align: right;\">\n",
              "      <th></th>\n",
              "      <th>Date/Time</th>\n",
              "      <th>ActivePower(kW)</th>\n",
              "      <th>WindSpeed(m/s)</th>\n",
              "      <th>TheoreticalPowerCurve(KWh)</th>\n",
              "      <th>WindDirection</th>\n",
              "    </tr>\n",
              "  </thead>\n",
              "  <tbody>\n",
              "    <tr>\n",
              "      <th>0</th>\n",
              "      <td>01 01 2018 00:00</td>\n",
              "      <td>380.047791</td>\n",
              "      <td>5.311336</td>\n",
              "      <td>416.328908</td>\n",
              "      <td>259.994904</td>\n",
              "    </tr>\n",
              "    <tr>\n",
              "      <th>1</th>\n",
              "      <td>01 01 2018 00:10</td>\n",
              "      <td>453.769196</td>\n",
              "      <td>5.672167</td>\n",
              "      <td>519.917511</td>\n",
              "      <td>268.641113</td>\n",
              "    </tr>\n",
              "    <tr>\n",
              "      <th>2</th>\n",
              "      <td>01 01 2018 00:20</td>\n",
              "      <td>306.376587</td>\n",
              "      <td>5.216037</td>\n",
              "      <td>390.900016</td>\n",
              "      <td>272.564789</td>\n",
              "    </tr>\n",
              "    <tr>\n",
              "      <th>3</th>\n",
              "      <td>01 01 2018 00:30</td>\n",
              "      <td>419.645905</td>\n",
              "      <td>5.659674</td>\n",
              "      <td>516.127569</td>\n",
              "      <td>271.258087</td>\n",
              "    </tr>\n",
              "    <tr>\n",
              "      <th>4</th>\n",
              "      <td>01 01 2018 00:40</td>\n",
              "      <td>380.650696</td>\n",
              "      <td>5.577941</td>\n",
              "      <td>491.702972</td>\n",
              "      <td>265.674286</td>\n",
              "    </tr>\n",
              "  </tbody>\n",
              "</table>\n",
              "</div>"
            ],
            "text/plain": [
              "          Date/Time  ActivePower(kW)  ...  TheoreticalPowerCurve(KWh)  WindDirection\n",
              "0  01 01 2018 00:00       380.047791  ...                  416.328908     259.994904\n",
              "1  01 01 2018 00:10       453.769196  ...                  519.917511     268.641113\n",
              "2  01 01 2018 00:20       306.376587  ...                  390.900016     272.564789\n",
              "3  01 01 2018 00:30       419.645905  ...                  516.127569     271.258087\n",
              "4  01 01 2018 00:40       380.650696  ...                  491.702972     265.674286\n",
              "\n",
              "[5 rows x 5 columns]"
            ]
          },
          "metadata": {
            "tags": []
          },
          "execution_count": 46
        }
      ]
    },
    {
      "cell_type": "code",
      "metadata": {
        "id": "MMQKLFhZZqby"
      },
      "source": [
        "\n",
        "data['Date/Time'] = pd.to_datetime(data['Date/Time'],format='%d %m %Y %H:%M')\n",
        "data['year'] = data['Date/Time'].dt.year \n",
        "data['month'] = data['Date/Time'].dt.month \n",
        "data['day'] = data['Date/Time'].dt.day"
      ],
      "execution_count": 47,
      "outputs": []
    },
    {
      "cell_type": "code",
      "metadata": {
        "colab": {
          "base_uri": "https://localhost:8080/",
          "height": 202
        },
        "id": "qpdfjDEKc0pX",
        "outputId": "9aaf8040-3307-4907-8af2-99d639e1672b"
      },
      "source": [
        "data['Hour'] = data['Date/Time'].dt.hour \n",
        "data['minute'] = data['Date/Time'].dt.minute \n",
        "data.head()"
      ],
      "execution_count": 48,
      "outputs": [
        {
          "output_type": "execute_result",
          "data": {
            "text/html": [
              "<div>\n",
              "<style scoped>\n",
              "    .dataframe tbody tr th:only-of-type {\n",
              "        vertical-align: middle;\n",
              "    }\n",
              "\n",
              "    .dataframe tbody tr th {\n",
              "        vertical-align: top;\n",
              "    }\n",
              "\n",
              "    .dataframe thead th {\n",
              "        text-align: right;\n",
              "    }\n",
              "</style>\n",
              "<table border=\"1\" class=\"dataframe\">\n",
              "  <thead>\n",
              "    <tr style=\"text-align: right;\">\n",
              "      <th></th>\n",
              "      <th>Date/Time</th>\n",
              "      <th>ActivePower(kW)</th>\n",
              "      <th>WindSpeed(m/s)</th>\n",
              "      <th>TheoreticalPowerCurve(KWh)</th>\n",
              "      <th>WindDirection</th>\n",
              "      <th>year</th>\n",
              "      <th>month</th>\n",
              "      <th>day</th>\n",
              "      <th>Hour</th>\n",
              "      <th>minute</th>\n",
              "    </tr>\n",
              "  </thead>\n",
              "  <tbody>\n",
              "    <tr>\n",
              "      <th>0</th>\n",
              "      <td>2018-01-01 00:00:00</td>\n",
              "      <td>380.047791</td>\n",
              "      <td>5.311336</td>\n",
              "      <td>416.328908</td>\n",
              "      <td>259.994904</td>\n",
              "      <td>2018</td>\n",
              "      <td>1</td>\n",
              "      <td>1</td>\n",
              "      <td>0</td>\n",
              "      <td>0</td>\n",
              "    </tr>\n",
              "    <tr>\n",
              "      <th>1</th>\n",
              "      <td>2018-01-01 00:10:00</td>\n",
              "      <td>453.769196</td>\n",
              "      <td>5.672167</td>\n",
              "      <td>519.917511</td>\n",
              "      <td>268.641113</td>\n",
              "      <td>2018</td>\n",
              "      <td>1</td>\n",
              "      <td>1</td>\n",
              "      <td>0</td>\n",
              "      <td>10</td>\n",
              "    </tr>\n",
              "    <tr>\n",
              "      <th>2</th>\n",
              "      <td>2018-01-01 00:20:00</td>\n",
              "      <td>306.376587</td>\n",
              "      <td>5.216037</td>\n",
              "      <td>390.900016</td>\n",
              "      <td>272.564789</td>\n",
              "      <td>2018</td>\n",
              "      <td>1</td>\n",
              "      <td>1</td>\n",
              "      <td>0</td>\n",
              "      <td>20</td>\n",
              "    </tr>\n",
              "    <tr>\n",
              "      <th>3</th>\n",
              "      <td>2018-01-01 00:30:00</td>\n",
              "      <td>419.645905</td>\n",
              "      <td>5.659674</td>\n",
              "      <td>516.127569</td>\n",
              "      <td>271.258087</td>\n",
              "      <td>2018</td>\n",
              "      <td>1</td>\n",
              "      <td>1</td>\n",
              "      <td>0</td>\n",
              "      <td>30</td>\n",
              "    </tr>\n",
              "    <tr>\n",
              "      <th>4</th>\n",
              "      <td>2018-01-01 00:40:00</td>\n",
              "      <td>380.650696</td>\n",
              "      <td>5.577941</td>\n",
              "      <td>491.702972</td>\n",
              "      <td>265.674286</td>\n",
              "      <td>2018</td>\n",
              "      <td>1</td>\n",
              "      <td>1</td>\n",
              "      <td>0</td>\n",
              "      <td>40</td>\n",
              "    </tr>\n",
              "  </tbody>\n",
              "</table>\n",
              "</div>"
            ],
            "text/plain": [
              "            Date/Time  ActivePower(kW)  WindSpeed(m/s)  ...  day  Hour  minute\n",
              "0 2018-01-01 00:00:00       380.047791        5.311336  ...    1     0       0\n",
              "1 2018-01-01 00:10:00       453.769196        5.672167  ...    1     0      10\n",
              "2 2018-01-01 00:20:00       306.376587        5.216037  ...    1     0      20\n",
              "3 2018-01-01 00:30:00       419.645905        5.659674  ...    1     0      30\n",
              "4 2018-01-01 00:40:00       380.650696        5.577941  ...    1     0      40\n",
              "\n",
              "[5 rows x 10 columns]"
            ]
          },
          "metadata": {
            "tags": []
          },
          "execution_count": 48
        }
      ]
    },
    {
      "cell_type": "code",
      "metadata": {
        "id": "tvDC_837Z2i6"
      },
      "source": [
        "def mean_speed(x):\n",
        "    x = round(x,2)\n",
        "    a = x//1\n",
        "    a,b = a+0.25,a+0.75\n",
        "    if x < a:\n",
        "        x = a - 0.25\n",
        "    else:\n",
        "        x = b -0.25\n",
        "    return x"
      ],
      "execution_count": 49,
      "outputs": []
    },
    {
      "cell_type": "code",
      "metadata": {
        "colab": {
          "base_uri": "https://localhost:8080/",
          "height": 414
        },
        "id": "ReSZHzekZ3yJ",
        "outputId": "8f5e2496-8bcc-410e-ba42-cd683e906f0f"
      },
      "source": [
        "data['meanSpeed'] = data['WindSpeed(m/s)'].apply(mean_speed)\n",
        "data.head(100)"
      ],
      "execution_count": 50,
      "outputs": [
        {
          "output_type": "execute_result",
          "data": {
            "text/html": [
              "<div>\n",
              "<style scoped>\n",
              "    .dataframe tbody tr th:only-of-type {\n",
              "        vertical-align: middle;\n",
              "    }\n",
              "\n",
              "    .dataframe tbody tr th {\n",
              "        vertical-align: top;\n",
              "    }\n",
              "\n",
              "    .dataframe thead th {\n",
              "        text-align: right;\n",
              "    }\n",
              "</style>\n",
              "<table border=\"1\" class=\"dataframe\">\n",
              "  <thead>\n",
              "    <tr style=\"text-align: right;\">\n",
              "      <th></th>\n",
              "      <th>Date/Time</th>\n",
              "      <th>ActivePower(kW)</th>\n",
              "      <th>WindSpeed(m/s)</th>\n",
              "      <th>TheoreticalPowerCurve(KWh)</th>\n",
              "      <th>WindDirection</th>\n",
              "      <th>year</th>\n",
              "      <th>month</th>\n",
              "      <th>day</th>\n",
              "      <th>Hour</th>\n",
              "      <th>minute</th>\n",
              "      <th>meanSpeed</th>\n",
              "    </tr>\n",
              "  </thead>\n",
              "  <tbody>\n",
              "    <tr>\n",
              "      <th>0</th>\n",
              "      <td>2018-01-01 00:00:00</td>\n",
              "      <td>380.047791</td>\n",
              "      <td>5.311336</td>\n",
              "      <td>416.328908</td>\n",
              "      <td>259.994904</td>\n",
              "      <td>2018</td>\n",
              "      <td>1</td>\n",
              "      <td>1</td>\n",
              "      <td>0</td>\n",
              "      <td>0</td>\n",
              "      <td>5.5</td>\n",
              "    </tr>\n",
              "    <tr>\n",
              "      <th>1</th>\n",
              "      <td>2018-01-01 00:10:00</td>\n",
              "      <td>453.769196</td>\n",
              "      <td>5.672167</td>\n",
              "      <td>519.917511</td>\n",
              "      <td>268.641113</td>\n",
              "      <td>2018</td>\n",
              "      <td>1</td>\n",
              "      <td>1</td>\n",
              "      <td>0</td>\n",
              "      <td>10</td>\n",
              "      <td>5.5</td>\n",
              "    </tr>\n",
              "    <tr>\n",
              "      <th>2</th>\n",
              "      <td>2018-01-01 00:20:00</td>\n",
              "      <td>306.376587</td>\n",
              "      <td>5.216037</td>\n",
              "      <td>390.900016</td>\n",
              "      <td>272.564789</td>\n",
              "      <td>2018</td>\n",
              "      <td>1</td>\n",
              "      <td>1</td>\n",
              "      <td>0</td>\n",
              "      <td>20</td>\n",
              "      <td>5.0</td>\n",
              "    </tr>\n",
              "    <tr>\n",
              "      <th>3</th>\n",
              "      <td>2018-01-01 00:30:00</td>\n",
              "      <td>419.645905</td>\n",
              "      <td>5.659674</td>\n",
              "      <td>516.127569</td>\n",
              "      <td>271.258087</td>\n",
              "      <td>2018</td>\n",
              "      <td>1</td>\n",
              "      <td>1</td>\n",
              "      <td>0</td>\n",
              "      <td>30</td>\n",
              "      <td>5.5</td>\n",
              "    </tr>\n",
              "    <tr>\n",
              "      <th>4</th>\n",
              "      <td>2018-01-01 00:40:00</td>\n",
              "      <td>380.650696</td>\n",
              "      <td>5.577941</td>\n",
              "      <td>491.702972</td>\n",
              "      <td>265.674286</td>\n",
              "      <td>2018</td>\n",
              "      <td>1</td>\n",
              "      <td>1</td>\n",
              "      <td>0</td>\n",
              "      <td>40</td>\n",
              "      <td>5.5</td>\n",
              "    </tr>\n",
              "    <tr>\n",
              "      <th>...</th>\n",
              "      <td>...</td>\n",
              "      <td>...</td>\n",
              "      <td>...</td>\n",
              "      <td>...</td>\n",
              "      <td>...</td>\n",
              "      <td>...</td>\n",
              "      <td>...</td>\n",
              "      <td>...</td>\n",
              "      <td>...</td>\n",
              "      <td>...</td>\n",
              "      <td>...</td>\n",
              "    </tr>\n",
              "    <tr>\n",
              "      <th>95</th>\n",
              "      <td>2018-01-01 15:50:00</td>\n",
              "      <td>2820.512939</td>\n",
              "      <td>10.772420</td>\n",
              "      <td>3186.029883</td>\n",
              "      <td>225.276398</td>\n",
              "      <td>2018</td>\n",
              "      <td>1</td>\n",
              "      <td>1</td>\n",
              "      <td>15</td>\n",
              "      <td>50</td>\n",
              "      <td>10.5</td>\n",
              "    </tr>\n",
              "    <tr>\n",
              "      <th>96</th>\n",
              "      <td>2018-01-01 16:00:00</td>\n",
              "      <td>2812.279053</td>\n",
              "      <td>10.647520</td>\n",
              "      <td>3133.259224</td>\n",
              "      <td>224.680603</td>\n",
              "      <td>2018</td>\n",
              "      <td>1</td>\n",
              "      <td>1</td>\n",
              "      <td>16</td>\n",
              "      <td>0</td>\n",
              "      <td>10.5</td>\n",
              "    </tr>\n",
              "    <tr>\n",
              "      <th>97</th>\n",
              "      <td>2018-01-01 16:10:00</td>\n",
              "      <td>2530.447021</td>\n",
              "      <td>9.982661</td>\n",
              "      <td>2781.274041</td>\n",
              "      <td>225.519501</td>\n",
              "      <td>2018</td>\n",
              "      <td>1</td>\n",
              "      <td>1</td>\n",
              "      <td>16</td>\n",
              "      <td>10</td>\n",
              "      <td>9.5</td>\n",
              "    </tr>\n",
              "    <tr>\n",
              "      <th>98</th>\n",
              "      <td>2018-01-01 16:20:00</td>\n",
              "      <td>2399.121094</td>\n",
              "      <td>9.874386</td>\n",
              "      <td>2711.492458</td>\n",
              "      <td>227.273804</td>\n",
              "      <td>2018</td>\n",
              "      <td>1</td>\n",
              "      <td>1</td>\n",
              "      <td>16</td>\n",
              "      <td>20</td>\n",
              "      <td>9.5</td>\n",
              "    </tr>\n",
              "    <tr>\n",
              "      <th>99</th>\n",
              "      <td>2018-01-01 16:30:00</td>\n",
              "      <td>2335.587891</td>\n",
              "      <td>9.785480</td>\n",
              "      <td>2651.341009</td>\n",
              "      <td>229.255493</td>\n",
              "      <td>2018</td>\n",
              "      <td>1</td>\n",
              "      <td>1</td>\n",
              "      <td>16</td>\n",
              "      <td>30</td>\n",
              "      <td>9.5</td>\n",
              "    </tr>\n",
              "  </tbody>\n",
              "</table>\n",
              "<p>100 rows × 11 columns</p>\n",
              "</div>"
            ],
            "text/plain": [
              "             Date/Time  ActivePower(kW)  ...  minute  meanSpeed\n",
              "0  2018-01-01 00:00:00       380.047791  ...       0        5.5\n",
              "1  2018-01-01 00:10:00       453.769196  ...      10        5.5\n",
              "2  2018-01-01 00:20:00       306.376587  ...      20        5.0\n",
              "3  2018-01-01 00:30:00       419.645905  ...      30        5.5\n",
              "4  2018-01-01 00:40:00       380.650696  ...      40        5.5\n",
              "..                 ...              ...  ...     ...        ...\n",
              "95 2018-01-01 15:50:00      2820.512939  ...      50       10.5\n",
              "96 2018-01-01 16:00:00      2812.279053  ...       0       10.5\n",
              "97 2018-01-01 16:10:00      2530.447021  ...      10        9.5\n",
              "98 2018-01-01 16:20:00      2399.121094  ...      20        9.5\n",
              "99 2018-01-01 16:30:00      2335.587891  ...      30        9.5\n",
              "\n",
              "[100 rows x 11 columns]"
            ]
          },
          "metadata": {
            "tags": []
          },
          "execution_count": 50
        }
      ]
    },
    {
      "cell_type": "code",
      "metadata": {
        "id": "HmpEuXw9Z6IZ"
      },
      "source": [
        "def mean_direction(x):\n",
        "    list=[]\n",
        "    i=15\n",
        "    while i<=375:\n",
        "        list.append(i)\n",
        "        i+=30\n",
        "        \n",
        "    for i in list:\n",
        "        if x < i:\n",
        "            x=i-15\n",
        "            if x==360:\n",
        "                return 0\n",
        "            else:\n",
        "                return x"
      ],
      "execution_count": 51,
      "outputs": []
    },
    {
      "cell_type": "code",
      "metadata": {
        "colab": {
          "base_uri": "https://localhost:8080/",
          "height": 414
        },
        "id": "KXmrG6MtZ9Iq",
        "outputId": "52247379-cfbc-48d4-bb00-27c237735679"
      },
      "source": [
        "data[\"meanDirection\"]=data[\"WindDirection\"].apply(mean_direction)\n",
        "data.head(100)"
      ],
      "execution_count": 52,
      "outputs": [
        {
          "output_type": "execute_result",
          "data": {
            "text/html": [
              "<div>\n",
              "<style scoped>\n",
              "    .dataframe tbody tr th:only-of-type {\n",
              "        vertical-align: middle;\n",
              "    }\n",
              "\n",
              "    .dataframe tbody tr th {\n",
              "        vertical-align: top;\n",
              "    }\n",
              "\n",
              "    .dataframe thead th {\n",
              "        text-align: right;\n",
              "    }\n",
              "</style>\n",
              "<table border=\"1\" class=\"dataframe\">\n",
              "  <thead>\n",
              "    <tr style=\"text-align: right;\">\n",
              "      <th></th>\n",
              "      <th>Date/Time</th>\n",
              "      <th>ActivePower(kW)</th>\n",
              "      <th>WindSpeed(m/s)</th>\n",
              "      <th>TheoreticalPowerCurve(KWh)</th>\n",
              "      <th>WindDirection</th>\n",
              "      <th>year</th>\n",
              "      <th>month</th>\n",
              "      <th>day</th>\n",
              "      <th>Hour</th>\n",
              "      <th>minute</th>\n",
              "      <th>meanSpeed</th>\n",
              "      <th>meanDirection</th>\n",
              "    </tr>\n",
              "  </thead>\n",
              "  <tbody>\n",
              "    <tr>\n",
              "      <th>0</th>\n",
              "      <td>2018-01-01 00:00:00</td>\n",
              "      <td>380.047791</td>\n",
              "      <td>5.311336</td>\n",
              "      <td>416.328908</td>\n",
              "      <td>259.994904</td>\n",
              "      <td>2018</td>\n",
              "      <td>1</td>\n",
              "      <td>1</td>\n",
              "      <td>0</td>\n",
              "      <td>0</td>\n",
              "      <td>5.5</td>\n",
              "      <td>270</td>\n",
              "    </tr>\n",
              "    <tr>\n",
              "      <th>1</th>\n",
              "      <td>2018-01-01 00:10:00</td>\n",
              "      <td>453.769196</td>\n",
              "      <td>5.672167</td>\n",
              "      <td>519.917511</td>\n",
              "      <td>268.641113</td>\n",
              "      <td>2018</td>\n",
              "      <td>1</td>\n",
              "      <td>1</td>\n",
              "      <td>0</td>\n",
              "      <td>10</td>\n",
              "      <td>5.5</td>\n",
              "      <td>270</td>\n",
              "    </tr>\n",
              "    <tr>\n",
              "      <th>2</th>\n",
              "      <td>2018-01-01 00:20:00</td>\n",
              "      <td>306.376587</td>\n",
              "      <td>5.216037</td>\n",
              "      <td>390.900016</td>\n",
              "      <td>272.564789</td>\n",
              "      <td>2018</td>\n",
              "      <td>1</td>\n",
              "      <td>1</td>\n",
              "      <td>0</td>\n",
              "      <td>20</td>\n",
              "      <td>5.0</td>\n",
              "      <td>270</td>\n",
              "    </tr>\n",
              "    <tr>\n",
              "      <th>3</th>\n",
              "      <td>2018-01-01 00:30:00</td>\n",
              "      <td>419.645905</td>\n",
              "      <td>5.659674</td>\n",
              "      <td>516.127569</td>\n",
              "      <td>271.258087</td>\n",
              "      <td>2018</td>\n",
              "      <td>1</td>\n",
              "      <td>1</td>\n",
              "      <td>0</td>\n",
              "      <td>30</td>\n",
              "      <td>5.5</td>\n",
              "      <td>270</td>\n",
              "    </tr>\n",
              "    <tr>\n",
              "      <th>4</th>\n",
              "      <td>2018-01-01 00:40:00</td>\n",
              "      <td>380.650696</td>\n",
              "      <td>5.577941</td>\n",
              "      <td>491.702972</td>\n",
              "      <td>265.674286</td>\n",
              "      <td>2018</td>\n",
              "      <td>1</td>\n",
              "      <td>1</td>\n",
              "      <td>0</td>\n",
              "      <td>40</td>\n",
              "      <td>5.5</td>\n",
              "      <td>270</td>\n",
              "    </tr>\n",
              "    <tr>\n",
              "      <th>...</th>\n",
              "      <td>...</td>\n",
              "      <td>...</td>\n",
              "      <td>...</td>\n",
              "      <td>...</td>\n",
              "      <td>...</td>\n",
              "      <td>...</td>\n",
              "      <td>...</td>\n",
              "      <td>...</td>\n",
              "      <td>...</td>\n",
              "      <td>...</td>\n",
              "      <td>...</td>\n",
              "      <td>...</td>\n",
              "    </tr>\n",
              "    <tr>\n",
              "      <th>95</th>\n",
              "      <td>2018-01-01 15:50:00</td>\n",
              "      <td>2820.512939</td>\n",
              "      <td>10.772420</td>\n",
              "      <td>3186.029883</td>\n",
              "      <td>225.276398</td>\n",
              "      <td>2018</td>\n",
              "      <td>1</td>\n",
              "      <td>1</td>\n",
              "      <td>15</td>\n",
              "      <td>50</td>\n",
              "      <td>10.5</td>\n",
              "      <td>240</td>\n",
              "    </tr>\n",
              "    <tr>\n",
              "      <th>96</th>\n",
              "      <td>2018-01-01 16:00:00</td>\n",
              "      <td>2812.279053</td>\n",
              "      <td>10.647520</td>\n",
              "      <td>3133.259224</td>\n",
              "      <td>224.680603</td>\n",
              "      <td>2018</td>\n",
              "      <td>1</td>\n",
              "      <td>1</td>\n",
              "      <td>16</td>\n",
              "      <td>0</td>\n",
              "      <td>10.5</td>\n",
              "      <td>210</td>\n",
              "    </tr>\n",
              "    <tr>\n",
              "      <th>97</th>\n",
              "      <td>2018-01-01 16:10:00</td>\n",
              "      <td>2530.447021</td>\n",
              "      <td>9.982661</td>\n",
              "      <td>2781.274041</td>\n",
              "      <td>225.519501</td>\n",
              "      <td>2018</td>\n",
              "      <td>1</td>\n",
              "      <td>1</td>\n",
              "      <td>16</td>\n",
              "      <td>10</td>\n",
              "      <td>9.5</td>\n",
              "      <td>240</td>\n",
              "    </tr>\n",
              "    <tr>\n",
              "      <th>98</th>\n",
              "      <td>2018-01-01 16:20:00</td>\n",
              "      <td>2399.121094</td>\n",
              "      <td>9.874386</td>\n",
              "      <td>2711.492458</td>\n",
              "      <td>227.273804</td>\n",
              "      <td>2018</td>\n",
              "      <td>1</td>\n",
              "      <td>1</td>\n",
              "      <td>16</td>\n",
              "      <td>20</td>\n",
              "      <td>9.5</td>\n",
              "      <td>240</td>\n",
              "    </tr>\n",
              "    <tr>\n",
              "      <th>99</th>\n",
              "      <td>2018-01-01 16:30:00</td>\n",
              "      <td>2335.587891</td>\n",
              "      <td>9.785480</td>\n",
              "      <td>2651.341009</td>\n",
              "      <td>229.255493</td>\n",
              "      <td>2018</td>\n",
              "      <td>1</td>\n",
              "      <td>1</td>\n",
              "      <td>16</td>\n",
              "      <td>30</td>\n",
              "      <td>9.5</td>\n",
              "      <td>240</td>\n",
              "    </tr>\n",
              "  </tbody>\n",
              "</table>\n",
              "<p>100 rows × 12 columns</p>\n",
              "</div>"
            ],
            "text/plain": [
              "             Date/Time  ActivePower(kW)  ...  meanSpeed  meanDirection\n",
              "0  2018-01-01 00:00:00       380.047791  ...        5.5            270\n",
              "1  2018-01-01 00:10:00       453.769196  ...        5.5            270\n",
              "2  2018-01-01 00:20:00       306.376587  ...        5.0            270\n",
              "3  2018-01-01 00:30:00       419.645905  ...        5.5            270\n",
              "4  2018-01-01 00:40:00       380.650696  ...        5.5            270\n",
              "..                 ...              ...  ...        ...            ...\n",
              "95 2018-01-01 15:50:00      2820.512939  ...       10.5            240\n",
              "96 2018-01-01 16:00:00      2812.279053  ...       10.5            210\n",
              "97 2018-01-01 16:10:00      2530.447021  ...        9.5            240\n",
              "98 2018-01-01 16:20:00      2399.121094  ...        9.5            240\n",
              "99 2018-01-01 16:30:00      2335.587891  ...        9.5            240\n",
              "\n",
              "[100 rows x 12 columns]"
            ]
          },
          "metadata": {
            "tags": []
          },
          "execution_count": 52
        }
      ]
    },
    {
      "cell_type": "code",
      "metadata": {
        "id": "nncd09OYZ_3S"
      },
      "source": [
        "directiondict = {0:\"N\", 30:\"NNE\", 60:\"NEE\", 90:\"E\", 120:\"SEE\", 150:\"SSE\", 180:\"S\", 210:\"SSW\", 240:\"SWW\", 270:\"W\", 300:\"NWW\", 330:\"NNW\"}\n",
        "\n",
        "def wind_direction(x):\n",
        "  for x in directiondict:\n",
        "    return directiondict[x]"
      ],
      "execution_count": 53,
      "outputs": []
    },
    {
      "cell_type": "code",
      "metadata": {
        "id": "hIBBHjJDaCi6"
      },
      "source": [
        "data['windCDirection'] = data['meanDirection'].apply(wind_direction)"
      ],
      "execution_count": 54,
      "outputs": []
    },
    {
      "cell_type": "code",
      "metadata": {
        "colab": {
          "base_uri": "https://localhost:8080/",
          "height": 355
        },
        "id": "VJH92CaiaFDC",
        "outputId": "4b97d8fa-adce-4fcb-f813-a04d8d1d1140"
      },
      "source": [
        "data.head(10)"
      ],
      "execution_count": 55,
      "outputs": [
        {
          "output_type": "execute_result",
          "data": {
            "text/html": [
              "<div>\n",
              "<style scoped>\n",
              "    .dataframe tbody tr th:only-of-type {\n",
              "        vertical-align: middle;\n",
              "    }\n",
              "\n",
              "    .dataframe tbody tr th {\n",
              "        vertical-align: top;\n",
              "    }\n",
              "\n",
              "    .dataframe thead th {\n",
              "        text-align: right;\n",
              "    }\n",
              "</style>\n",
              "<table border=\"1\" class=\"dataframe\">\n",
              "  <thead>\n",
              "    <tr style=\"text-align: right;\">\n",
              "      <th></th>\n",
              "      <th>Date/Time</th>\n",
              "      <th>ActivePower(kW)</th>\n",
              "      <th>WindSpeed(m/s)</th>\n",
              "      <th>TheoreticalPowerCurve(KWh)</th>\n",
              "      <th>WindDirection</th>\n",
              "      <th>year</th>\n",
              "      <th>month</th>\n",
              "      <th>day</th>\n",
              "      <th>Hour</th>\n",
              "      <th>minute</th>\n",
              "      <th>meanSpeed</th>\n",
              "      <th>meanDirection</th>\n",
              "      <th>windCDirection</th>\n",
              "    </tr>\n",
              "  </thead>\n",
              "  <tbody>\n",
              "    <tr>\n",
              "      <th>0</th>\n",
              "      <td>2018-01-01 00:00:00</td>\n",
              "      <td>380.047791</td>\n",
              "      <td>5.311336</td>\n",
              "      <td>416.328908</td>\n",
              "      <td>259.994904</td>\n",
              "      <td>2018</td>\n",
              "      <td>1</td>\n",
              "      <td>1</td>\n",
              "      <td>0</td>\n",
              "      <td>0</td>\n",
              "      <td>5.5</td>\n",
              "      <td>270</td>\n",
              "      <td>N</td>\n",
              "    </tr>\n",
              "    <tr>\n",
              "      <th>1</th>\n",
              "      <td>2018-01-01 00:10:00</td>\n",
              "      <td>453.769196</td>\n",
              "      <td>5.672167</td>\n",
              "      <td>519.917511</td>\n",
              "      <td>268.641113</td>\n",
              "      <td>2018</td>\n",
              "      <td>1</td>\n",
              "      <td>1</td>\n",
              "      <td>0</td>\n",
              "      <td>10</td>\n",
              "      <td>5.5</td>\n",
              "      <td>270</td>\n",
              "      <td>N</td>\n",
              "    </tr>\n",
              "    <tr>\n",
              "      <th>2</th>\n",
              "      <td>2018-01-01 00:20:00</td>\n",
              "      <td>306.376587</td>\n",
              "      <td>5.216037</td>\n",
              "      <td>390.900016</td>\n",
              "      <td>272.564789</td>\n",
              "      <td>2018</td>\n",
              "      <td>1</td>\n",
              "      <td>1</td>\n",
              "      <td>0</td>\n",
              "      <td>20</td>\n",
              "      <td>5.0</td>\n",
              "      <td>270</td>\n",
              "      <td>N</td>\n",
              "    </tr>\n",
              "    <tr>\n",
              "      <th>3</th>\n",
              "      <td>2018-01-01 00:30:00</td>\n",
              "      <td>419.645905</td>\n",
              "      <td>5.659674</td>\n",
              "      <td>516.127569</td>\n",
              "      <td>271.258087</td>\n",
              "      <td>2018</td>\n",
              "      <td>1</td>\n",
              "      <td>1</td>\n",
              "      <td>0</td>\n",
              "      <td>30</td>\n",
              "      <td>5.5</td>\n",
              "      <td>270</td>\n",
              "      <td>N</td>\n",
              "    </tr>\n",
              "    <tr>\n",
              "      <th>4</th>\n",
              "      <td>2018-01-01 00:40:00</td>\n",
              "      <td>380.650696</td>\n",
              "      <td>5.577941</td>\n",
              "      <td>491.702972</td>\n",
              "      <td>265.674286</td>\n",
              "      <td>2018</td>\n",
              "      <td>1</td>\n",
              "      <td>1</td>\n",
              "      <td>0</td>\n",
              "      <td>40</td>\n",
              "      <td>5.5</td>\n",
              "      <td>270</td>\n",
              "      <td>N</td>\n",
              "    </tr>\n",
              "    <tr>\n",
              "      <th>5</th>\n",
              "      <td>2018-01-01 00:50:00</td>\n",
              "      <td>402.391998</td>\n",
              "      <td>5.604052</td>\n",
              "      <td>499.436385</td>\n",
              "      <td>264.578613</td>\n",
              "      <td>2018</td>\n",
              "      <td>1</td>\n",
              "      <td>1</td>\n",
              "      <td>0</td>\n",
              "      <td>50</td>\n",
              "      <td>5.5</td>\n",
              "      <td>270</td>\n",
              "      <td>N</td>\n",
              "    </tr>\n",
              "    <tr>\n",
              "      <th>6</th>\n",
              "      <td>2018-01-01 01:00:00</td>\n",
              "      <td>447.605713</td>\n",
              "      <td>5.793008</td>\n",
              "      <td>557.372363</td>\n",
              "      <td>266.163605</td>\n",
              "      <td>2018</td>\n",
              "      <td>1</td>\n",
              "      <td>1</td>\n",
              "      <td>1</td>\n",
              "      <td>0</td>\n",
              "      <td>5.5</td>\n",
              "      <td>270</td>\n",
              "      <td>N</td>\n",
              "    </tr>\n",
              "    <tr>\n",
              "      <th>7</th>\n",
              "      <td>2018-01-01 01:10:00</td>\n",
              "      <td>387.242188</td>\n",
              "      <td>5.306050</td>\n",
              "      <td>414.898179</td>\n",
              "      <td>257.949493</td>\n",
              "      <td>2018</td>\n",
              "      <td>1</td>\n",
              "      <td>1</td>\n",
              "      <td>1</td>\n",
              "      <td>10</td>\n",
              "      <td>5.5</td>\n",
              "      <td>270</td>\n",
              "      <td>N</td>\n",
              "    </tr>\n",
              "    <tr>\n",
              "      <th>8</th>\n",
              "      <td>2018-01-01 01:20:00</td>\n",
              "      <td>463.651215</td>\n",
              "      <td>5.584629</td>\n",
              "      <td>493.677652</td>\n",
              "      <td>253.480698</td>\n",
              "      <td>2018</td>\n",
              "      <td>1</td>\n",
              "      <td>1</td>\n",
              "      <td>1</td>\n",
              "      <td>20</td>\n",
              "      <td>5.5</td>\n",
              "      <td>240</td>\n",
              "      <td>N</td>\n",
              "    </tr>\n",
              "    <tr>\n",
              "      <th>9</th>\n",
              "      <td>2018-01-01 01:30:00</td>\n",
              "      <td>439.725708</td>\n",
              "      <td>5.523228</td>\n",
              "      <td>475.706783</td>\n",
              "      <td>258.723785</td>\n",
              "      <td>2018</td>\n",
              "      <td>1</td>\n",
              "      <td>1</td>\n",
              "      <td>1</td>\n",
              "      <td>30</td>\n",
              "      <td>5.5</td>\n",
              "      <td>270</td>\n",
              "      <td>N</td>\n",
              "    </tr>\n",
              "  </tbody>\n",
              "</table>\n",
              "</div>"
            ],
            "text/plain": [
              "            Date/Time  ActivePower(kW)  ...  meanDirection  windCDirection\n",
              "0 2018-01-01 00:00:00       380.047791  ...            270               N\n",
              "1 2018-01-01 00:10:00       453.769196  ...            270               N\n",
              "2 2018-01-01 00:20:00       306.376587  ...            270               N\n",
              "3 2018-01-01 00:30:00       419.645905  ...            270               N\n",
              "4 2018-01-01 00:40:00       380.650696  ...            270               N\n",
              "5 2018-01-01 00:50:00       402.391998  ...            270               N\n",
              "6 2018-01-01 01:00:00       447.605713  ...            270               N\n",
              "7 2018-01-01 01:10:00       387.242188  ...            270               N\n",
              "8 2018-01-01 01:20:00       463.651215  ...            240               N\n",
              "9 2018-01-01 01:30:00       439.725708  ...            270               N\n",
              "\n",
              "[10 rows x 13 columns]"
            ]
          },
          "metadata": {
            "tags": []
          },
          "execution_count": 55
        }
      ]
    },
    {
      "cell_type": "code",
      "metadata": {
        "id": "r_TvSbA5FN1a"
      },
      "source": [
        "\n",
        "list_data=[]\n",
        "list_yon=[\"N\",\"NNE\",\"NEE\",\"E\",\"SEE\",\"SSE\",\"S\",\"SSW\",\"SWW\",\"W\",\"NWW\",\"NNW\"]\n",
        "\n",
        "for i in range(0,12):\n",
        "    data1T_A=data[data[\"windCDirection\"] == list_yon[i]]\n",
        "    \n",
        "    DepGroup_A = data1T_A.groupby(\"meanSpeed\")\n",
        "    data_T_A = DepGroup_A.mean()\n",
        "    \n",
        "    data_T_A.drop(columns = {\"WindSpeed(m/s)\",\n",
        "                             \"WindDirection\",\n",
        "                             \"meanDirection\"},\n",
        "                  inplace = True)\n",
        "    \n",
        "    listTA_WS = data_T_A.index.copy()\n",
        "    data_T_A[\"WindSpeed(m/s)\"] = listTA_WS\n",
        "    \n",
        "    data_T_A = data_T_A[[\"WindSpeed(m/s)\",\n",
        "                         \"ActivePower(kW)\",\n",
        "                         \"TheoreticalPowerCurve(KWh)\"]]\n",
        "    \n",
        "    data_T_A[\"Index\"] = list(range(1,len(data_T_A.index)+1))\n",
        "\n",
        "    data_T_A.set_index(\"Index\", inplace = True)\n",
        "    \n",
        "    data_T_A = data_T_A.round({'ActivePower(kW)': 2,\n",
        "                             'TheoreticalPowerCurve(KWh)': 2})\n",
        "    \n",
        "    data_T_A[\"count\"] = [len(data1T_A[\"meanSpeed\"][data1T_A[\"meanSpeed\"] == x]) for x in data_T_A[\"WindSpeed(m/s)\"]]\n",
        "    list_data.append(data_T_A)"
      ],
      "execution_count": 56,
      "outputs": []
    },
    {
      "cell_type": "code",
      "metadata": {
        "id": "GH-RGpPVaN-q"
      },
      "source": [
        "data_T_N = list_data[0]\n",
        "data_T_NNE = list_data[1]\n",
        "data_T_NEE = list_data[2]\n",
        "data_T_E = list_data[3]\n",
        "data_T_SEE = list_data[4]\n",
        "data_T_SSE = list_data[5]\n",
        "data_T_S = list_data[6]\n",
        "data_T_SSW = list_data[7]\n",
        "data_T_SWW = list_data[8]\n",
        "data_T_W = list_data[9]\n",
        "data_T_NWW = list_data[10]\n",
        "data_T_NNW = list_data[11]\n",
        "\n",
        "list_table=[data_T_N,data_T_NNE,data_T_NEE,data_T_E,data_T_SEE,data_T_SSE,data_T_S,\n",
        "            data_T_SSW,data_T_SWW,data_T_W,data_T_NWW,data_T_NNW]\n",
        "\n",
        "list_tableName=[\"N\",\"NNE\",\"NEE\",\"E\",\"SEE\",\"SSE\",\"S\",\"SSW\",\"SWW\",\"W\",\"NWW\",\"NNW\"]"
      ],
      "execution_count": 57,
      "outputs": []
    },
    {
      "cell_type": "code",
      "metadata": {
        "id": "ooCnLNnKaQHx"
      },
      "source": [
        "def graph_T(i):\n",
        "    fig = plt.figure(figsize=(10,5))  \n",
        "    plt.plot(list_table[i][\"WindSpeed(m/s)\"],\n",
        "             list_table[i][\"TheoreticalPowerCurve(KWh)\"],\n",
        "             label = \"Theoretical Power Curve\",\n",
        "             marker = \"o\", markersize = 10, linewidth = 5)\n",
        "    \n",
        "    plt.plot(list_table[i][\"WindSpeed(m/s)\"],\n",
        "             list_table[i][\"ActivePower(kW)\"],\n",
        "             label = \"Actual Power Curve\",\n",
        "             marker = \"o\", markersize = 10, linewidth = 5)\n",
        "    \n",
        "    plt.xlabel(\"Wind Speed (m/s)\")\n",
        "    plt.ylabel(\"Power (kW)\")\n",
        "    plt.title(\"Direction towards {}\".format(list_tableName[i]))\n",
        "    plt.legend()\n",
        "    plt.show()\n",
        "    fig.savefig(\"{}_Powercurve.jpeg\".format(list_tableName[i]))\n",
        "    plt.close(fig)"
      ],
      "execution_count": 58,
      "outputs": []
    },
    {
      "cell_type": "code",
      "metadata": {
        "colab": {
          "base_uri": "https://localhost:8080/",
          "height": 1000
        },
        "id": "rNvCkjIgaSsp",
        "outputId": "90927fee-0906-4bf1-db23-1882c1ae5fec"
      },
      "source": [
        "for i in range(0,12):\n",
        "    graph_T(i)"
      ],
      "execution_count": 59,
      "outputs": [
        {
          "output_type": "display_data",
          "data": {
            "image/png": "[encoded data removed]",
            "text/plain": [
              "<Figure size 720x360 with 1 Axes>"
            ]
          },
          "metadata": {
            "tags": [],
            "needs_background": "light"
          }
        },
        {
          "output_type": "display_data",
          "data": {
            "image/png": "[encoded data removed]",
            "text/plain": [
              "<Figure size 720x360 with 1 Axes>"
            ]
          },
          "metadata": {
            "tags": [],
            "needs_background": "light"
          }
        },
        {
          "output_type": "display_data",
          "data": {
            "image/png": "[encoded data removed]",
            "text/plain": [
              "<Figure size 720x360 with 1 Axes>"
            ]
          },
          "metadata": {
            "tags": [],
            "needs_background": "light"
          }
        },
        {
          "output_type": "display_data",
          "data": {
            "image/png": "[encoded data removed]",
            "text/plain": [
              "<Figure size 720x360 with 1 Axes>"
            ]
          },
          "metadata": {
            "tags": [],
            "needs_background": "light"
          }
        },
        {
          "output_type": "display_data",
          "data": {
            "image/png": "[encoded data removed]",
            "text/plain": [
              "<Figure size 720x360 with 1 Axes>"
            ]
          },
          "metadata": {
            "tags": [],
            "needs_background": "light"
          }
        },
        {
          "output_type": "display_data",
          "data": {
            "image/png": "[encoded data removed]",
            "text/plain": [
              "<Figure size 720x360 with 1 Axes>"
            ]
          },
          "metadata": {
            "tags": [],
            "needs_background": "light"
          }
        },
        {
          "output_type": "display_data",
          "data": {
            "image/png": "[encoded data removed]",
            "text/plain": [
              "<Figure size 720x360 with 1 Axes>"
            ]
          },
          "metadata": {
            "tags": [],
            "needs_background": "light"
          }
        },
        {
          "output_type": "display_data",
          "data": {
            "image/png": "[encoded data removed]",
            "text/plain": [
              "<Figure size 720x360 with 1 Axes>"
            ]
          },
          "metadata": {
            "tags": [],
            "needs_background": "light"
          }
        },
        {
          "output_type": "display_data",
          "data": {
            "image/png": "[encoded data removed]",
            "text/plain": [
              "<Figure size 720x360 with 1 Axes>"
            ]
          },
          "metadata": {
            "tags": [],
            "needs_background": "light"
          }
        },
        {
          "output_type": "display_data",
          "data": {
            "image/png": "[encoded data removed]",
            "text/plain": [
              "<Figure size 720x360 with 1 Axes>"
            ]
          },
          "metadata": {
            "tags": [],
            "needs_background": "light"
          }
        },
        {
          "output_type": "display_data",
          "data": {
            "image/png": "[encoded data removed]",
            "text/plain": [
              "<Figure size 720x360 with 1 Axes>"
            ]
          },
          "metadata": {
            "tags": [],
            "needs_background": "light"
          }
        },
        {
          "output_type": "display_data",
          "data": {
            "image/png": "[encoded data removed]",
            "text/plain": [
              "<Figure size 720x360 with 1 Axes>"
            ]
          },
          "metadata": {
            "tags": [],
            "needs_background": "light"
          }
        }
      ]
    },
    {
      "cell_type": "code",
      "metadata": {
        "id": "drtj4o2EdqmD"
      },
      "source": [
        "X = data[[ 'WindDirection', 'month', 'WindSpeed(m/s)']]"
      ],
      "execution_count": 60,
      "outputs": []
    },
    {
      "cell_type": "code",
      "metadata": {
        "colab": {
          "base_uri": "https://localhost:8080/",
          "height": 414
        },
        "id": "JSGDL7C5eL5T",
        "outputId": "8f0debdd-3773-4321-d241-74027be7d57d"
      },
      "source": [
        "X"
      ],
      "execution_count": 61,
      "outputs": [
        {
          "output_type": "execute_result",
          "data": {
            "text/html": [
              "<div>\n",
              "<style scoped>\n",
              "    .dataframe tbody tr th:only-of-type {\n",
              "        vertical-align: middle;\n",
              "    }\n",
              "\n",
              "    .dataframe tbody tr th {\n",
              "        vertical-align: top;\n",
              "    }\n",
              "\n",
              "    .dataframe thead th {\n",
              "        text-align: right;\n",
              "    }\n",
              "</style>\n",
              "<table border=\"1\" class=\"dataframe\">\n",
              "  <thead>\n",
              "    <tr style=\"text-align: right;\">\n",
              "      <th></th>\n",
              "      <th>WindDirection</th>\n",
              "      <th>month</th>\n",
              "      <th>WindSpeed(m/s)</th>\n",
              "    </tr>\n",
              "  </thead>\n",
              "  <tbody>\n",
              "    <tr>\n",
              "      <th>0</th>\n",
              "      <td>259.994904</td>\n",
              "      <td>1</td>\n",
              "      <td>5.311336</td>\n",
              "    </tr>\n",
              "    <tr>\n",
              "      <th>1</th>\n",
              "      <td>268.641113</td>\n",
              "      <td>1</td>\n",
              "      <td>5.672167</td>\n",
              "    </tr>\n",
              "    <tr>\n",
              "      <th>2</th>\n",
              "      <td>272.564789</td>\n",
              "      <td>1</td>\n",
              "      <td>5.216037</td>\n",
              "    </tr>\n",
              "    <tr>\n",
              "      <th>3</th>\n",
              "      <td>271.258087</td>\n",
              "      <td>1</td>\n",
              "      <td>5.659674</td>\n",
              "    </tr>\n",
              "    <tr>\n",
              "      <th>4</th>\n",
              "      <td>265.674286</td>\n",
              "      <td>1</td>\n",
              "      <td>5.577941</td>\n",
              "    </tr>\n",
              "    <tr>\n",
              "      <th>...</th>\n",
              "      <td>...</td>\n",
              "      <td>...</td>\n",
              "      <td>...</td>\n",
              "    </tr>\n",
              "    <tr>\n",
              "      <th>50525</th>\n",
              "      <td>80.502724</td>\n",
              "      <td>12</td>\n",
              "      <td>11.404030</td>\n",
              "    </tr>\n",
              "    <tr>\n",
              "      <th>50526</th>\n",
              "      <td>84.062599</td>\n",
              "      <td>12</td>\n",
              "      <td>7.332648</td>\n",
              "    </tr>\n",
              "    <tr>\n",
              "      <th>50527</th>\n",
              "      <td>84.742500</td>\n",
              "      <td>12</td>\n",
              "      <td>8.435358</td>\n",
              "    </tr>\n",
              "    <tr>\n",
              "      <th>50528</th>\n",
              "      <td>84.297913</td>\n",
              "      <td>12</td>\n",
              "      <td>9.421366</td>\n",
              "    </tr>\n",
              "    <tr>\n",
              "      <th>50529</th>\n",
              "      <td>82.274620</td>\n",
              "      <td>12</td>\n",
              "      <td>9.979332</td>\n",
              "    </tr>\n",
              "  </tbody>\n",
              "</table>\n",
              "<p>50530 rows × 3 columns</p>\n",
              "</div>"
            ],
            "text/plain": [
              "       WindDirection  month  WindSpeed(m/s)\n",
              "0         259.994904      1        5.311336\n",
              "1         268.641113      1        5.672167\n",
              "2         272.564789      1        5.216037\n",
              "3         271.258087      1        5.659674\n",
              "4         265.674286      1        5.577941\n",
              "...              ...    ...             ...\n",
              "50525      80.502724     12       11.404030\n",
              "50526      84.062599     12        7.332648\n",
              "50527      84.742500     12        8.435358\n",
              "50528      84.297913     12        9.421366\n",
              "50529      82.274620     12        9.979332\n",
              "\n",
              "[50530 rows x 3 columns]"
            ]
          },
          "metadata": {
            "tags": []
          },
          "execution_count": 61
        }
      ]
    },
    {
      "cell_type": "code",
      "metadata": {
        "id": "M_E2a8yFeOZ3"
      },
      "source": [
        "y = data['ActivePower(kW)']"
      ],
      "execution_count": 62,
      "outputs": []
    },
    {
      "cell_type": "code",
      "metadata": {
        "colab": {
          "base_uri": "https://localhost:8080/",
          "height": 282
        },
        "id": "f6GO5Cz87vV9",
        "outputId": "7a3634ba-c703-4eb6-fd8d-83fbb4ba453b"
      },
      "source": [
        "import matplotlib.pyplot as plt\n",
        "%matplotlib inline\n",
        "#WindDirection Vs WindSpeed\n",
        "\n",
        "plt.scatter(data['WindDirection'],data['WindSpeed(m/s)'])"
      ],
      "execution_count": 63,
      "outputs": [
        {
          "output_type": "execute_result",
          "data": {
            "text/plain": [
              "<matplotlib.collections.PathCollection at 0x7fe8597abdd0>"
            ]
          },
          "metadata": {
            "tags": []
          },
          "execution_count": 63
        },
        {
          "output_type": "display_data",
          "data": {
            "image/png": "[encoded data removed]",
            "text/plain": [
              "<Figure size 432x288 with 1 Axes>"
            ]
          },
          "metadata": {
            "tags": [],
            "needs_background": "light"
          }
        }
      ]
    },
    {
      "cell_type": "code",
      "metadata": {
        "id": "RrjDDl4MeWHj"
      },
      "source": [
        "X_train, X_test, y_train, y_test = train_test_split(X, y, test_size = 0.20, random_state = 42)"
      ],
      "execution_count": 64,
      "outputs": []
    },
    {
      "cell_type": "code",
      "metadata": {
        "colab": {
          "base_uri": "https://localhost:8080/"
        },
        "id": "eQXNqUFl3R2c",
        "outputId": "aa1ec6d8-09b4-40c0-ff57-4c2eab7713f1"
      },
      "source": [
        "\n",
        "# Fitting Multiple Linear Regression to the Training set\n",
        "from sklearn.linear_model import LinearRegression\n",
        "linr = LinearRegression()\n",
        "linr.fit(X_train, y_train)"
      ],
      "execution_count": 65,
      "outputs": [
        {
          "output_type": "execute_result",
          "data": {
            "text/plain": [
              "LinearRegression(copy_X=True, fit_intercept=True, n_jobs=None, normalize=False)"
            ]
          },
          "metadata": {
            "tags": []
          },
          "execution_count": 65
        }
      ]
    },
    {
      "cell_type": "code",
      "metadata": {
        "id": "S2c4RtXm3cIt",
        "colab": {
          "base_uri": "https://localhost:8080/"
        },
        "outputId": "e1ffa07c-988c-4778-ae9d-84ceb0a4462f"
      },
      "source": [
        "# Fitting Decision Tree Regression to the dataset\n",
        "from sklearn.tree import DecisionTreeRegressor\n",
        "dtr = DecisionTreeRegressor(random_state = 0)\n",
        "dtr.fit(X_train, y_train)"
      ],
      "execution_count": 66,
      "outputs": [
        {
          "output_type": "execute_result",
          "data": {
            "text/plain": [
              "DecisionTreeRegressor(ccp_alpha=0.0, criterion='mse', max_depth=None,\n",
              "                      max_features=None, max_leaf_nodes=None,\n",
              "                      min_impurity_decrease=0.0, min_impurity_split=None,\n",
              "                      min_samples_leaf=1, min_samples_split=2,\n",
              "                      min_weight_fraction_leaf=0.0, presort='deprecated',\n",
              "                      random_state=0, splitter='best')"
            ]
          },
          "metadata": {
            "tags": []
          },
          "execution_count": 66
        }
      ]
    },
    {
      "cell_type": "code",
      "metadata": {
        "colab": {
          "base_uri": "https://localhost:8080/"
        },
        "id": "lo8ZpfVf4I-E",
        "outputId": "f8264e92-4c04-4c85-8cca-a116dbd5b818"
      },
      "source": [
        "# Fitting Random Forest Regression to the dataset\n",
        "from sklearn.ensemble import RandomForestRegressor\n",
        "rfr = RandomForestRegressor(n_estimators = 10, random_state = 0, n_jobs = -1)\n",
        "rfr.fit(X_train, y_train)"
      ],
      "execution_count": 67,
      "outputs": [
        {
          "output_type": "execute_result",
          "data": {
            "text/plain": [
              "RandomForestRegressor(bootstrap=True, ccp_alpha=0.0, criterion='mse',\n",
              "                      max_depth=None, max_features='auto', max_leaf_nodes=None,\n",
              "                      max_samples=None, min_impurity_decrease=0.0,\n",
              "                      min_impurity_split=None, min_samples_leaf=1,\n",
              "                      min_samples_split=2, min_weight_fraction_leaf=0.0,\n",
              "                      n_estimators=10, n_jobs=-1, oob_score=False,\n",
              "                      random_state=0, verbose=0, warm_start=False)"
            ]
          },
          "metadata": {
            "tags": []
          },
          "execution_count": 67
        }
      ]
    },
    {
      "cell_type": "code",
      "metadata": {
        "colab": {
          "base_uri": "https://localhost:8080/"
        },
        "id": "tDPx-9i14NR9",
        "outputId": "9810f8a3-4fca-4a82-af00-c51792eef6b9"
      },
      "source": [
        "# Fitting xgboost Regression to the dataset\n",
        "import xgboost as xgb\n",
        "xgbr = xgb.XGBRegressor(n_jobs= -1)\n",
        "xgbr.fit(X_train, y_train)"
      ],
      "execution_count": 68,
      "outputs": [
        {
          "output_type": "stream",
          "text": [
            "[03:50:09] WARNING: /workspace/src/objective/regression_obj.cu:152: reg:linear is now deprecated in favor of reg:squarederror.\n"
          ],
          "name": "stdout"
        },
        {
          "output_type": "execute_result",
          "data": {
            "text/plain": [
              "XGBRegressor(base_score=0.5, booster='gbtree', colsample_bylevel=1,\n",
              "             colsample_bynode=1, colsample_bytree=1, gamma=0,\n",
              "             importance_type='gain', learning_rate=0.1, max_delta_step=0,\n",
              "             max_depth=3, min_child_weight=1, missing=None, n_estimators=100,\n",
              "             n_jobs=-1, nthread=None, objective='reg:linear', random_state=0,\n",
              "             reg_alpha=0, reg_lambda=1, scale_pos_weight=1, seed=None,\n",
              "             silent=None, subsample=1, verbosity=1)"
            ]
          },
          "metadata": {
            "tags": []
          },
          "execution_count": 68
        }
      ]
    },
    {
      "cell_type": "code",
      "metadata": {
        "id": "yh6ICogU4RpU"
      },
      "source": [
        "regression = {0:'LinearRegression', 1:'DecisionTreeRegressor', 2:'RandomForestRegressor', 3:'xgboost'}\n",
        "reg = {0:linr,1:dtr, 2:rfr, 3:xgbr}\n",
        "y_pred = {0:'y_lin', 1:'y_dtr', 2:'y_rfr', 3:'y_xgb'}"
      ],
      "execution_count": 69,
      "outputs": []
    },
    {
      "cell_type": "code",
      "metadata": {
        "colab": {
          "base_uri": "https://localhost:8080/"
        },
        "id": "pKXEsFmQ5_zj",
        "outputId": "2902925e-9fbe-4f26-8ea3-800e92791a4b"
      },
      "source": [
        "\n",
        "for i in range(0, 4):\n",
        "    print('\\n\\n-------------------------------------------------------------------------------')\n",
        "    print('Type of regression model: {}'.format(regression[i]))\n",
        "    # Predicting a new result\n",
        "    y_pred[i] = reg[i].predict(X_test)\n",
        "    # calculate MAE, MSE, RMSE and r2\n",
        "    import sklearn.metrics as metrics\n",
        "    print('Mean Absolute Error (MAE) = ',metrics.mean_absolute_error(y_test, y_pred[i]))\n",
        "    print('Mean Squared Error (MSE) = ',metrics.mean_squared_error(y_test, y_pred[i]))\n",
        "    print('Root Mean Squared Error (RMSE) = ',np.sqrt(metrics.mean_squared_error(y_test, y_pred[i])))\n",
        "    print('R2 Score = ',metrics.r2_score(y_test, y_pred[i]))\n",
        "    print('-------------------------------------------------------------------------------')\n"
      ],
      "execution_count": 70,
      "outputs": [
        {
          "output_type": "stream",
          "text": [
            "\n",
            "\n",
            "-------------------------------------------------------------------------------\n",
            "Type of regression model: LinearRegression\n",
            "Mean Absolute Error (MAE) =  389.5280360359254\n",
            "Mean Squared Error (MSE) =  289443.8524528424\n",
            "Root Mean Squared Error (RMSE) =  537.9998628743714\n",
            "R2 Score =  0.8303687203166857\n",
            "-------------------------------------------------------------------------------\n",
            "\n",
            "\n",
            "-------------------------------------------------------------------------------\n",
            "Type of regression model: DecisionTreeRegressor\n",
            "Mean Absolute Error (MAE) =  132.8168027015632\n",
            "Mean Squared Error (MSE) =  157373.24537015855\n",
            "Root Mean Squared Error (RMSE) =  396.70296869340234\n",
            "R2 Score =  0.907769936124639\n",
            "-------------------------------------------------------------------------------\n",
            "\n",
            "\n",
            "-------------------------------------------------------------------------------\n",
            "Type of regression model: RandomForestRegressor\n",
            "Mean Absolute Error (MAE) =  118.74780026407821\n",
            "Mean Squared Error (MSE) =  104004.43019259642\n",
            "Root Mean Squared Error (RMSE) =  322.497178580831\n",
            "R2 Score =  0.9390472299314823\n",
            "-------------------------------------------------------------------------------\n",
            "\n",
            "\n",
            "-------------------------------------------------------------------------------\n",
            "Type of regression model: xgboost\n",
            "Mean Absolute Error (MAE) =  137.81938430718708\n",
            "Mean Squared Error (MSE) =  106154.54074708707\n",
            "Root Mean Squared Error (RMSE) =  325.81365954650687\n",
            "R2 Score =  0.9377871375103511\n",
            "-------------------------------------------------------------------------------\n"
          ],
          "name": "stdout"
        }
      ]
    },
    {
      "cell_type": "code",
      "metadata": {
        "id": "aSzf45TZ7ZV1"
      },
      "source": [
        "# Split the Data\n",
        "from sklearn.model_selection import train_test_split\n",
        "X_train, X_test, y_train, y_test = train_test_split(X,y,train_size=0.8)"
      ],
      "execution_count": 71,
      "outputs": []
    },
    {
      "cell_type": "code",
      "metadata": {
        "colab": {
          "base_uri": "https://localhost:8080/"
        },
        "id": "kB_0lby1cE5q",
        "outputId": "ef212e12-0041-4feb-a022-27526c7119f6"
      },
      "source": [
        "# Fitting Random Forest Regression to the dataset\n",
        "from sklearn.ensemble import RandomForestRegressor\n",
        "rfr = RandomForestRegressor(n_estimators = 10, random_state = 0, n_jobs = -1)\n",
        "rfr.fit(X_train, y_train)"
      ],
      "execution_count": 72,
      "outputs": [
        {
          "output_type": "execute_result",
          "data": {
            "text/plain": [
              "RandomForestRegressor(bootstrap=True, ccp_alpha=0.0, criterion='mse',\n",
              "                      max_depth=None, max_features='auto', max_leaf_nodes=None,\n",
              "                      max_samples=None, min_impurity_decrease=0.0,\n",
              "                      min_impurity_split=None, min_samples_leaf=1,\n",
              "                      min_samples_split=2, min_weight_fraction_leaf=0.0,\n",
              "                      n_estimators=10, n_jobs=-1, oob_score=False,\n",
              "                      random_state=0, verbose=0, warm_start=False)"
            ]
          },
          "metadata": {
            "tags": []
          },
          "execution_count": 72
        }
      ]
    },
    {
      "cell_type": "code",
      "metadata": {
        "id": "u3re6cbxxbqi"
      },
      "source": [
        " # create regressor object\n",
        "regressor = RandomForestRegressor(n_estimators = 100, random_state = 0)"
      ],
      "execution_count": 73,
      "outputs": []
    },
    {
      "cell_type": "code",
      "metadata": {
        "colab": {
          "base_uri": "https://localhost:8080/"
        },
        "id": "Wm084Q4FxdCz",
        "outputId": "cb3e4e90-0feb-4112-f7d6-1b50279bd706"
      },
      "source": [
        "# fit the regressor with x and y data\n",
        "regressor.fit(X, y)"
      ],
      "execution_count": 74,
      "outputs": [
        {
          "output_type": "execute_result",
          "data": {
            "text/plain": [
              "RandomForestRegressor(bootstrap=True, ccp_alpha=0.0, criterion='mse',\n",
              "                      max_depth=None, max_features='auto', max_leaf_nodes=None,\n",
              "                      max_samples=None, min_impurity_decrease=0.0,\n",
              "                      min_impurity_split=None, min_samples_leaf=1,\n",
              "                      min_samples_split=2, min_weight_fraction_leaf=0.0,\n",
              "                      n_estimators=100, n_jobs=None, oob_score=False,\n",
              "                      random_state=0, verbose=0, warm_start=False)"
            ]
          },
          "metadata": {
            "tags": []
          },
          "execution_count": 74
        }
      ]
    },
    {
      "cell_type": "code",
      "metadata": {
        "colab": {
          "base_uri": "https://localhost:8080/"
        },
        "id": "-IdSB4-fehiD",
        "outputId": "0b529eb6-6a74-49a3-de37-6dfb7fc02bee"
      },
      "source": [
        "lasso = Lasso(alpha = 0.01)\n",
        "model = lasso.fit(X_train, y_train) \n",
        "pred_train_lasso= lasso.predict(X_train)\n",
        "\n",
        "print(\"Training RMSE and R2 score:\")\n",
        "print(np.sqrt(mean_squared_error(y_train,pred_train_lasso)))\n",
        "print(r2_score(y_train, pred_train_lasso))\n",
        "\n",
        "pred_test_lasso= lasso.predict(X_test)\n",
        "print(\"Testing RMSE and R2 score:\")\n",
        "print(np.sqrt(mean_squared_error(y_test,pred_test_lasso))) \n",
        "print(r2_score(y_test, pred_test_lasso))"
      ],
      "execution_count": 76,
      "outputs": [
        {
          "output_type": "stream",
          "text": [
            "Training RMSE and R2 score:\n",
            "533.0701562459259\n",
            "0.8350012178304358\n",
            "Testing RMSE and R2 score:\n",
            "531.0810073199563\n",
            "0.8363688487785604\n"
          ],
          "name": "stdout"
        }
      ]
    },
    {
      "cell_type": "code",
      "metadata": {
        "colab": {
          "base_uri": "https://localhost:8080/"
        },
        "id": "zasDLGDCej-N",
        "outputId": "6e09c71a-fe83-452b-9659-1dc7d90434dd"
      },
      "source": [
        "print(*model.predict([[330.95,5,7.85]]))"
      ],
      "execution_count": 77,
      "outputs": [
        {
          "output_type": "stream",
          "text": [
            "1410.8236038515945\n"
          ],
          "name": "stdout"
        }
      ]
    },
    {
      "cell_type": "code",
      "metadata": {
        "id": "cMTmyOTspD58"
      },
      "source": [
        "import pickle\n",
        "Pkl_wind= \"Pickle_lasso_wind.pkl\"  \n",
        "\n",
        "with open(Pkl_wind, 'wb') as file:  \n",
        "    pickle.dump(lasso, file)"
      ],
      "execution_count": null,
      "outputs": []
    }
  ]
}